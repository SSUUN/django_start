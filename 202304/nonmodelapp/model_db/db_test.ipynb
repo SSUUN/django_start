{
 "cells": [
  {
   "cell_type": "markdown",
   "id": "e2386be6",
   "metadata": {
    "ExecuteTime": {
     "end_time": "2023-04-17T00:51:32.630582Z",
     "start_time": "2023-04-17T00:51:32.614387Z"
    }
   },
   "source": [
    "### 1. DB 드라이버 연결하기 "
   ]
  },
  {
   "cell_type": "code",
   "execution_count": null,
   "id": "4ecf1c1c",
   "metadata": {},
   "outputs": [],
   "source": [
    "\"\"\" < db 접속 및 사용 순서>\n",
    "1.db 드라이버 연결\n",
    "2.db connection 접속\n",
    "3.커서 받아오기\n",
    "4.sql 구문작성 및 실행죠엋\n",
    "5.입출력 프로그래밍 \n",
    "6.commit & 접속해제\n",
    "\n",
    "\"\"\""
   ]
  },
  {
   "cell_type": "code",
   "execution_count": 2,
   "id": "78b61217",
   "metadata": {
    "ExecuteTime": {
     "end_time": "2023-04-17T01:12:14.244716Z",
     "start_time": "2023-04-17T01:12:14.224477Z"
    }
   },
   "outputs": [],
   "source": [
    "import cx_Oracle\n"
   ]
  },
  {
   "cell_type": "code",
   "execution_count": 31,
   "id": "b48ac909",
   "metadata": {
    "ExecuteTime": {
     "end_time": "2023-04-17T01:42:35.335973Z",
     "start_time": "2023-04-17T01:42:35.218971Z"
    }
   },
   "outputs": [],
   "source": [
    "# db 드라이버 연결하기 (서버 찾아가기 )\n",
    "dsn=cx_Oracle.makedsn(\"localhost\",\n",
    "                     1521,\n",
    "                     \"xe\")\n",
    "# db 접속허가 connect\n",
    "conn=cx_Oracle.connect(\"gwangju_a\",\n",
    "                      \"dbdb\",\n",
    "                      dsn)\n",
    "#커서 받아오기\n",
    "cursor=conn.cursor()"
   ]
  },
  {
   "cell_type": "code",
   "execution_count": 32,
   "id": "40cbbada",
   "metadata": {
    "ExecuteTime": {
     "end_time": "2023-04-17T01:42:36.332402Z",
     "start_time": "2023-04-17T01:42:36.316046Z"
    }
   },
   "outputs": [],
   "source": [
    "# 구문작성\n",
    "sql=\"\"\"\n",
    "    select mem_id,mem_name,mem_add1\n",
    "    from member\n",
    "    order by mem_name\n",
    "\"\"\"\n",
    "g=cursor.execute(sql)"
   ]
  },
  {
   "cell_type": "code",
   "execution_count": 33,
   "id": "98d85025",
   "metadata": {
    "ExecuteTime": {
     "end_time": "2023-04-17T01:42:37.625276Z",
     "start_time": "2023-04-17T01:42:37.618867Z"
    }
   },
   "outputs": [],
   "source": [
    "lis=g.fetchall()"
   ]
  },
  {
   "cell_type": "code",
   "execution_count": 62,
   "id": "248c818a",
   "metadata": {
    "ExecuteTime": {
     "end_time": "2023-04-17T02:17:40.573010Z",
     "start_time": "2023-04-17T02:17:40.563447Z"
    }
   },
   "outputs": [
    {
     "data": {
      "text/plain": [
       "[{'mem_id': 'l001', 'mem_name': '구길동', 'mem_add1': '충남금산군 금산읍'},\n",
       " {'mem_id': 'u001', 'mem_name': '김성욱', 'mem_add1': '대전시 동구 용전동'},\n",
       " {'mem_id': 'j001', 'mem_name': '김윤희', 'mem_add1': '대전시 서구 삼천동'},\n",
       " {'mem_id': 'a001', 'mem_name': '김은대', 'mem_add1': '대전시 동구 용운동'},\n",
       " {'mem_id': 'w001', 'mem_name': '김형모', 'mem_add1': '대전시 대덕구 연축동'},\n",
       " {'mem_id': 'h001', 'mem_name': '라준호', 'mem_add1': '준호네 집'},\n",
       " {'mem_id': 'm001', 'mem_name': '박지은', 'mem_add1': '대전광역시 서구 갈마동'},\n",
       " {'mem_id': 'o001', 'mem_name': '배인정', 'mem_add1': '대전시 서구 갈마동'},\n",
       " {'mem_id': 't001', 'mem_name': '성원태', 'mem_add1': '대전광역시 중구 유천동'},\n",
       " {'mem_id': 'd001', 'mem_name': '성윤미', 'mem_add1': '대전시 중구 하늘동 '},\n",
       " {'mem_id': 'g001', 'mem_name': '송경희', 'mem_add1': '충남금산군 제원면'},\n",
       " {'mem_id': 'f001', 'mem_name': '신영남', 'mem_add1': '대전광역시 대흥동'},\n",
       " {'mem_id': 'c001', 'mem_name': '신용환', 'mem_add1': '청와대'},\n",
       " {'mem_id': 's001', 'mem_name': '안은정', 'mem_add1': '대구광역시 서구 탄방동'},\n",
       " {'mem_id': 'p001', 'mem_name': '오성순', 'mem_add1': '대전유성구송강동'},\n",
       " {'mem_id': 'k001', 'mem_name': '오철희', 'mem_add1': '대전시 대덕구 대화동'},\n",
       " {'mem_id': 'q001', 'mem_name': '육평회', 'mem_add1': '대구광역시 대덕구 중리동234'},\n",
       " {'mem_id': 'b001', 'mem_name': '이쁜이', 'mem_add1': '서울시 천사동 예쁜마을'},\n",
       " {'mem_id': 'v001', 'mem_name': '이진영', 'mem_add1': '대전시 동구 용전동'},\n",
       " {'mem_id': 'e001', 'mem_name': '이혜나', 'mem_add1': '대전시 대덕구 읍내동 123'},\n",
       " {'mem_id': 'r001', 'mem_name': '정은실', 'mem_add1': '대전시 동구 용전동'},\n",
       " {'mem_id': 'x001', 'mem_name': '진현경124', 'mem_add1': '대전광역시 동구 오정동'},\n",
       " {'mem_id': 'i001', 'mem_name': '최지현', 'mem_add1': '대전시 동구 가양1동'},\n",
       " {'mem_id': 'n001', 'mem_name': '탁원재', 'mem_add1': '대전시 동구 자양동'}]"
      ]
     },
     "execution_count": 62,
     "metadata": {},
     "output_type": "execute_result"
    }
   ],
   "source": [
    "col=list(map(lambda x:x[0].lower(),cursor.description))\n",
    "list_row=list(map(lambda x:dict(zip(col,x)),lis))\n",
    "list_row"
   ]
  },
  {
   "cell_type": "code",
   "execution_count": 71,
   "id": "63ea7248",
   "metadata": {
    "ExecuteTime": {
     "end_time": "2023-04-17T02:41:14.535887Z",
     "start_time": "2023-04-17T02:41:14.520388Z"
    }
   },
   "outputs": [],
   "source": [
    "mem_id=\"a001\"\n",
    "sql=f\"\"\"\n",
    "    select mem_id,mem_name,mem_add1\n",
    "    from member\n",
    "    where mem_id='{mem_id}'\n",
    "    \"\"\"\n",
    "cursor.execute(sql)\n",
    "g=cursor.fetchone()"
   ]
  },
  {
   "cell_type": "code",
   "execution_count": 81,
   "id": "ebf74cd8",
   "metadata": {
    "ExecuteTime": {
     "end_time": "2023-04-17T02:46:05.179412Z",
     "start_time": "2023-04-17T02:46:05.168726Z"
    }
   },
   "outputs": [
    {
     "data": {
      "text/plain": [
       "{'mem_id': 'a001', 'mem_name': '김은대', 'mem_add1': '대전시 동구 용운동'}"
      ]
     },
     "execution_count": 81,
     "metadata": {},
     "output_type": "execute_result"
    }
   ],
   "source": [
    "col=list(map(lambda x:x[0].lower(),cursor.description))\n",
    "\n",
    "dict_row=dict(zip(col,g))\n",
    "dict_row"
   ]
  },
  {
   "cell_type": "code",
   "execution_count": 94,
   "id": "a9830b2a",
   "metadata": {
    "ExecuteTime": {
     "end_time": "2023-04-17T03:43:49.821359Z",
     "start_time": "2023-04-17T03:43:49.804429Z"
    }
   },
   "outputs": [],
   "source": [
    "# db  접속 함수 \n",
    "def getDBconn_Cursor():\n",
    "    dsn=cx_Oracle.makedsn(\"localhost\",1521,\"xe\")\n",
    "    conn=cx_Oracle.connect(\"gwangju_a\",\"dbdb\",dsn)\n",
    "    cursor=conn.cursor()\n",
    "    return conn, cursor\n",
    "\n",
    "#  조회결과에서 컬럼명추출하기 기능정의\n",
    "def getColName(cursor):\n",
    "    return list(map(lambda x: x[0].lower(),cursor.description))\n",
    "\n",
    "# 한건 조호하는 함수\n",
    "def getFetchOne(cursor):\n",
    "    \n",
    "    col=getColName(cursor)\n",
    "    row=cursor.fetchone()\n",
    "    dict_row=dict(zip(col,row))\n",
    "    \n",
    "    return dict_row\n",
    "\n",
    "# 여러건 조회하는 함수\n",
    "def getFetchAll(cursor):\n",
    "    rows=cursor.fetchall()\n",
    "    col=getColName(cursor)\n",
    "    dict_rows=list(map(lambda x:dict(zip(col,x)),rows))\n",
    "    \n",
    "    return dict_rows\n",
    "\n",
    "# close\n",
    "def DBClose(cursor,conn):\n",
    "    cursor.close()\n",
    "    conn.close()"
   ]
  },
  {
   "cell_type": "code",
   "execution_count": 98,
   "id": "2a0c006b",
   "metadata": {
    "ExecuteTime": {
     "end_time": "2023-04-17T03:44:49.703680Z",
     "start_time": "2023-04-17T03:44:49.661227Z"
    }
   },
   "outputs": [
    {
     "name": "stdout",
     "output_type": "stream",
     "text": [
      "{'mem_id': 'a001', 'mem_name': '김은대', 'mem_add1': '대전시 동구 용운동'}\n"
     ]
    }
   ],
   "source": [
    "## db 접속정보 받아오기 \n",
    "\n",
    "conn,cursor=getDBconn_Cursor()\n",
    "mem_id=\"a001\"\n",
    "\n",
    "sql=f\"\"\"\n",
    "    select mem_id,mem_name,mem_add1\n",
    "    from member\n",
    "    \n",
    "    \"\"\"\n",
    "cursor.execute(sql)\n",
    "print(getFetchOne(cursor))\n",
    "getFetchAll(cursor)\n",
    "\n",
    "DBClose(cursor,conn)"
   ]
  },
  {
   "cell_type": "code",
   "execution_count": 93,
   "id": "ab66d643",
   "metadata": {
    "ExecuteTime": {
     "end_time": "2023-04-17T03:43:06.332705Z",
     "start_time": "2023-04-17T03:43:06.317983Z"
    }
   },
   "outputs": [
    {
     "ename": "InterfaceError",
     "evalue": "not open",
     "output_type": "error",
     "traceback": [
      "\u001b[1;31m---------------------------------------------------------------------------\u001b[0m",
      "\u001b[1;31mInterfaceError\u001b[0m                            Traceback (most recent call last)",
      "Cell \u001b[1;32mIn[93], line 1\u001b[0m\n\u001b[1;32m----> 1\u001b[0m \u001b[43mcursor\u001b[49m\u001b[38;5;241;43m.\u001b[39;49m\u001b[43mfetchall\u001b[49m\u001b[43m(\u001b[49m\u001b[43m)\u001b[49m\n",
      "\u001b[1;31mInterfaceError\u001b[0m: not open"
     ]
    }
   ],
   "source": [
    "cursor.fetchall()"
   ]
  },
  {
   "cell_type": "code",
   "execution_count": 86,
   "id": "2d0f289d",
   "metadata": {
    "ExecuteTime": {
     "end_time": "2023-04-17T03:37:41.524341Z",
     "start_time": "2023-04-17T03:37:41.509121Z"
    }
   },
   "outputs": [],
   "source": [
    "DBClose(cursor,conn)"
   ]
  },
  {
   "cell_type": "code",
   "execution_count": 84,
   "id": "f978f384",
   "metadata": {
    "ExecuteTime": {
     "end_time": "2023-04-17T03:37:24.812062Z",
     "start_time": "2023-04-17T03:37:24.798495Z"
    }
   },
   "outputs": [],
   "source": [
    "def DBClose(cursor,conn):\n",
    "    cursor.close()\n",
    "    conn.close()"
   ]
  },
  {
   "cell_type": "code",
   "execution_count": null,
   "id": "8e7658bf",
   "metadata": {},
   "outputs": [],
   "source": [
    "#  조회결과에서 컬럼명추출하기 기능정의\n",
    "def getColName(cursor):\n",
    "    dict_rows=\n",
    "    return list(map(lambda x: x[0].lower(),cursor.description))\n"
   ]
  },
  {
   "cell_type": "code",
   "execution_count": 30,
   "id": "bb1d46e2",
   "metadata": {
    "ExecuteTime": {
     "end_time": "2023-04-17T01:39:13.823232Z",
     "start_time": "2023-04-17T01:39:13.803556Z"
    }
   },
   "outputs": [],
   "source": [
    "cursor.close()\n",
    "conn.close()"
   ]
  },
  {
   "cell_type": "code",
   "execution_count": null,
   "id": "2e1a8b6b",
   "metadata": {},
   "outputs": [],
   "source": []
  }
 ],
 "metadata": {
  "kernelspec": {
   "display_name": "202304",
   "language": "python",
   "name": "202304"
  },
  "language_info": {
   "codemirror_mode": {
    "name": "ipython",
    "version": 3
   },
   "file_extension": ".py",
   "mimetype": "text/x-python",
   "name": "python",
   "nbconvert_exporter": "python",
   "pygments_lexer": "ipython3",
   "version": "3.9.16"
  },
  "varInspector": {
   "cols": {
    "lenName": 16,
    "lenType": 16,
    "lenVar": 40
   },
   "kernels_config": {
    "python": {
     "delete_cmd_postfix": "",
     "delete_cmd_prefix": "del ",
     "library": "var_list.py",
     "varRefreshCmd": "print(var_dic_list())"
    },
    "r": {
     "delete_cmd_postfix": ") ",
     "delete_cmd_prefix": "rm(",
     "library": "var_list.r",
     "varRefreshCmd": "cat(var_dic_list()) "
    }
   },
   "types_to_exclude": [
    "module",
    "function",
    "builtin_function_or_method",
    "instance",
    "_Feature"
   ],
   "window_display": false
  }
 },
 "nbformat": 4,
 "nbformat_minor": 5
}
